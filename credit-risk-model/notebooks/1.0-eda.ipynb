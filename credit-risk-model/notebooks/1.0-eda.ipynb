{
 "cells": [
  {
   "cell_type": "code",
   "execution_count": null,
   "id": "891d6e28",
   "metadata": {
    "vscode": {
     "languageId": "plaintext"
    }
   },
   "outputs": [],
   "source": []
  },
  {
   "cell_type": "code",
   "execution_count": null,
   "id": "9317f88f",
   "metadata": {
    "vscode": {
     "languageId": "plaintext"
    }
   },
   "outputs": [],
   "source": []
  },
  {
   "cell_type": "code",
   "execution_count": null,
   "id": "295bc1dd",
   "metadata": {
    "vscode": {
     "languageId": "plaintext"
    }
   },
   "outputs": [],
   "source": [
    "# Import libraries\n",
    "import pandas as pd\n",
    "import numpy as np\n",
    "import matplotlib.pyplot as plt\n",
    "import seaborn as sns\n",
    "from datetime import datetime\n",
    "\n",
    "# Load data\n",
    "df = pd.read_csv('../data/raw/xente_transactions.csv')\n",
    "\n",
    "# 1. Overview\n",
    "print(f\"Data shape: {df.shape}\")\n",
    "print(\"\\nData types:\")\n",
    "print(df.dtypes)\n",
    "print(\"\\nMissing values:\")\n",
    "print(df.isnull().sum())\n",
    "\n",
    "# 2. Summary statistics\n",
    "print(\"\\nNumerical features summary:\")\n",
    "print(df.describe())\n",
    "\n",
    "# 3. Numerical distributions\n",
    "num_cols = ['Amount', 'Value']\n",
    "plt.figure(figsize=(12, 5))\n",
    "for i, col in enumerate(num_cols, 1):\n",
    "    plt.subplot(1, 2, i)\n",
    "    sns.histplot(df[col], kde=True)\n",
    "    plt.title(f'Distribution of {col}')\n",
    "plt.tight_layout()\n",
    "plt.show()\n",
    "\n",
    "# 4. Categorical distributions\n",
    "cat_cols = ['ProductCategory', 'ChannelId', 'FraudResult']\n",
    "plt.figure(figsize=(15, 10))\n",
    "for i, col in enumerate(cat_cols, 1):\n",
    "    plt.subplot(2, 2, i)\n",
    "    df[col].value_counts().plot(kind='bar')\n",
    "    plt.title(f'Distribution of {col}')\n",
    "plt.tight_layout()\n",
    "plt.show()\n",
    "\n",
    "# 5. Correlation analysis\n",
    "corr_matrix = df[num_cols].corr()\n",
    "sns.heatmap(corr_matrix, annot=True, cmap='coolwarm')\n",
    "plt.title('Correlation Matrix')\n",
    "plt.show()\n",
    "\n",
    "# 6. Missing values\n",
    "missing = df.isnull().sum().sort_values(ascending=False)\n",
    "missing = missing[missing > 0]\n",
    "missing.plot(kind='bar', title='Missing Values by Column')\n",
    "\n",
    "# 7. Outliers\n",
    "plt.figure(figsize=(12, 5))\n",
    "sns.boxplot(data=df[num_cols])\n",
    "plt.title('Boxplot of Numerical Features')\n",
    "plt.xticks(rotation=45)\n",
    "plt.show()\n",
    "\n",
    "# Key Insights:\n",
    "# 1. Transaction amounts are right-skewed with some extreme outliers\n",
    "# 2. Fraud cases are rare (<1% of transactions)\n",
    "# 3. Most transactions come from a few product categories\n",
    "# 4. Android is the most common channel\n",
    "# 5. No significant missing data in key columns"
   ]
  }
 ],
 "metadata": {
  "language_info": {
   "name": "python"
  }
 },
 "nbformat": 4,
 "nbformat_minor": 5
}
